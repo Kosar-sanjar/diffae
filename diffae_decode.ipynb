{
  "cells": [
    {
      "cell_type": "code",
      "execution_count": null,
      "metadata": {
        "colab": {
          "base_uri": "https://localhost:8080/"
        },
        "id": "hhtO6fxB299w",
        "outputId": "adc756a5-5ce8-411a-d284-5a7f09123907"
      },
      "outputs": [
        {
          "output_type": "stream",
          "name": "stdout",
          "text": [
            "Cloning into 'diffae'...\n",
            "remote: Enumerating objects: 490, done.\u001b[K\n",
            "remote: Counting objects: 100% (116/116), done.\u001b[K\n",
            "remote: Compressing objects: 100% (38/38), done.\u001b[K\n",
            "remote: Total 490 (delta 88), reused 81 (delta 78), pack-reused 374\u001b[K\n",
            "Receiving objects: 100% (490/490), 11.23 MiB | 22.96 MiB/s, done.\n",
            "Resolving deltas: 100% (279/279), done.\n",
            "/content/diffae\n"
          ]
        }
      ],
      "source": [
        "!git clone https://github.com/phizaz/diffae.git\n",
        "%cd diffae"
      ]
    },
    {
      "cell_type": "code",
      "execution_count": null,
      "metadata": {
        "colab": {
          "base_uri": "https://localhost:8080/"
        },
        "id": "oT69t9AH3Yl7",
        "outputId": "2294fdf7-d514-444f-a76d-cb9b0018aad0"
      },
      "outputs": [
        {
          "output_type": "stream",
          "name": "stdout",
          "text": [
            "Reading package lists... Done\n",
            "Building dependency tree... Done\n",
            "Reading state information... Done\n",
            "The following additional packages will be installed:\n",
            "  libpython3.8-minimal libpython3.8-stdlib mailcap mime-support python3.8-lib2to3 python3.8-minimal\n",
            "Suggested packages:\n",
            "  python3.8-venv binfmt-support\n",
            "The following NEW packages will be installed:\n",
            "  libpython3.8-minimal libpython3.8-stdlib mailcap mime-support python3.8 python3.8-distutils\n",
            "  python3.8-lib2to3 python3.8-minimal\n",
            "0 upgraded, 8 newly installed, 0 to remove and 45 not upgraded.\n",
            "Need to get 5,421 kB of archives.\n",
            "After this operation, 20.2 MB of additional disk space will be used.\n",
            "Get:1 http://archive.ubuntu.com/ubuntu jammy/main amd64 mailcap all 3.70+nmu1ubuntu1 [23.8 kB]\n",
            "Get:2 http://archive.ubuntu.com/ubuntu jammy/main amd64 mime-support all 3.66 [3,696 B]\n",
            "Get:3 https://ppa.launchpadcontent.net/deadsnakes/ppa/ubuntu jammy/main amd64 libpython3.8-minimal amd64 3.8.19-1+jammy1 [794 kB]\n",
            "Get:4 https://ppa.launchpadcontent.net/deadsnakes/ppa/ubuntu jammy/main amd64 python3.8-minimal amd64 3.8.19-1+jammy1 [2,025 kB]\n",
            "Get:5 https://ppa.launchpadcontent.net/deadsnakes/ppa/ubuntu jammy/main amd64 libpython3.8-stdlib amd64 3.8.19-1+jammy1 [1,817 kB]\n",
            "Get:6 https://ppa.launchpadcontent.net/deadsnakes/ppa/ubuntu jammy/main amd64 python3.8 amd64 3.8.19-1+jammy1 [439 kB]\n",
            "Get:7 https://ppa.launchpadcontent.net/deadsnakes/ppa/ubuntu jammy/main amd64 python3.8-lib2to3 all 3.8.19-1+jammy1 [126 kB]\n",
            "Get:8 https://ppa.launchpadcontent.net/deadsnakes/ppa/ubuntu jammy/main amd64 python3.8-distutils all 3.8.19-1+jammy1 [193 kB]\n",
            "Fetched 5,421 kB in 2s (3,303 kB/s)\n",
            "Selecting previously unselected package libpython3.8-minimal:amd64.\n",
            "(Reading database ... 121925 files and directories currently installed.)\n",
            "Preparing to unpack .../0-libpython3.8-minimal_3.8.19-1+jammy1_amd64.deb ...\n",
            "Unpacking libpython3.8-minimal:amd64 (3.8.19-1+jammy1) ...\n",
            "Selecting previously unselected package python3.8-minimal.\n",
            "Preparing to unpack .../1-python3.8-minimal_3.8.19-1+jammy1_amd64.deb ...\n",
            "Unpacking python3.8-minimal (3.8.19-1+jammy1) ...\n",
            "Selecting previously unselected package mailcap.\n",
            "Preparing to unpack .../2-mailcap_3.70+nmu1ubuntu1_all.deb ...\n",
            "Unpacking mailcap (3.70+nmu1ubuntu1) ...\n",
            "Selecting previously unselected package mime-support.\n",
            "Preparing to unpack .../3-mime-support_3.66_all.deb ...\n",
            "Unpacking mime-support (3.66) ...\n",
            "Selecting previously unselected package libpython3.8-stdlib:amd64.\n",
            "Preparing to unpack .../4-libpython3.8-stdlib_3.8.19-1+jammy1_amd64.deb ...\n",
            "Unpacking libpython3.8-stdlib:amd64 (3.8.19-1+jammy1) ...\n",
            "Selecting previously unselected package python3.8.\n",
            "Preparing to unpack .../5-python3.8_3.8.19-1+jammy1_amd64.deb ...\n",
            "Unpacking python3.8 (3.8.19-1+jammy1) ...\n",
            "Selecting previously unselected package python3.8-lib2to3.\n",
            "Preparing to unpack .../6-python3.8-lib2to3_3.8.19-1+jammy1_all.deb ...\n",
            "Unpacking python3.8-lib2to3 (3.8.19-1+jammy1) ...\n",
            "Selecting previously unselected package python3.8-distutils.\n",
            "Preparing to unpack .../7-python3.8-distutils_3.8.19-1+jammy1_all.deb ...\n",
            "Unpacking python3.8-distutils (3.8.19-1+jammy1) ...\n",
            "Setting up libpython3.8-minimal:amd64 (3.8.19-1+jammy1) ...\n",
            "Setting up python3.8-lib2to3 (3.8.19-1+jammy1) ...\n",
            "Setting up python3.8-minimal (3.8.19-1+jammy1) ...\n",
            "Setting up python3.8-distutils (3.8.19-1+jammy1) ...\n",
            "Setting up mailcap (3.70+nmu1ubuntu1) ...\n",
            "Setting up mime-support (3.66) ...\n",
            "Setting up libpython3.8-stdlib:amd64 (3.8.19-1+jammy1) ...\n",
            "Setting up python3.8 (3.8.19-1+jammy1) ...\n",
            "Processing triggers for man-db (2.10.2-1) ...\n"
          ]
        }
      ],
      "source": [
        "!apt install python3.8 python3.8-distutils"
      ]
    },
    {
      "cell_type": "code",
      "execution_count": null,
      "metadata": {
        "id": "ktNGvvPDFyyz"
      },
      "outputs": [],
      "source": [
        "# !apt-get update -y\n",
        "# !apt-get install python3.8 python3.8-distutils\n",
        "# !update-alternatives --install /usr/bin/python3 python3 /usr/bin/python3.8 1\n",
        "# !update-alternatives --config python3\n",
        "# !apt-get install python3-pip\n",
        "# !python3 -m pip install --upgrade pip --user"
      ]
    },
    {
      "cell_type": "code",
      "execution_count": null,
      "metadata": {
        "colab": {
          "base_uri": "https://localhost:8080/"
        },
        "id": "P_V-4kd90ioI",
        "outputId": "444300cb-8674-48ec-fe96-1b3eb753bae7"
      },
      "outputs": [
        {
          "output_type": "stream",
          "name": "stdout",
          "text": [
            "Collecting virtualenv\n",
            "  Downloading virtualenv-20.26.3-py3-none-any.whl (5.7 MB)\n",
            "\u001b[2K     \u001b[90m━━━━━━━━━━━━━━━━━━━━━━━━━━━━━━━━━━━━━━━━\u001b[0m \u001b[32m5.7/5.7 MB\u001b[0m \u001b[31m17.7 MB/s\u001b[0m eta \u001b[36m0:00:00\u001b[0m\n",
            "\u001b[?25hCollecting distlib<1,>=0.3.7 (from virtualenv)\n",
            "  Downloading distlib-0.3.8-py2.py3-none-any.whl (468 kB)\n",
            "\u001b[2K     \u001b[90m━━━━━━━━━━━━━━━━━━━━━━━━━━━━━━━━━━━━━━━━\u001b[0m \u001b[32m468.9/468.9 kB\u001b[0m \u001b[31m50.6 MB/s\u001b[0m eta \u001b[36m0:00:00\u001b[0m\n",
            "\u001b[?25hRequirement already satisfied: filelock<4,>=3.12.2 in /usr/local/lib/python3.10/dist-packages (from virtualenv) (3.15.4)\n",
            "Requirement already satisfied: platformdirs<5,>=3.9.1 in /usr/local/lib/python3.10/dist-packages (from virtualenv) (4.2.2)\n",
            "Installing collected packages: distlib, virtualenv\n",
            "Successfully installed distlib-0.3.8 virtualenv-20.26.3\n"
          ]
        }
      ],
      "source": [
        "!pip3 install virtualenv"
      ]
    },
    {
      "cell_type": "code",
      "execution_count": null,
      "metadata": {
        "colab": {
          "base_uri": "https://localhost:8080/"
        },
        "id": "Ixv6XHCA0mlM",
        "outputId": "713c3776-8c52-4099-8d2d-8bdca2a21137"
      },
      "outputs": [
        {
          "output_type": "stream",
          "name": "stdout",
          "text": [
            "created virtual environment CPython3.8.19.final.0-64 in 589ms\n",
            "  creator CPython3Posix(dest=/content/diffae/diffae, clear=False, no_vcs_ignore=False, global=False)\n",
            "  seeder FromAppData(download=False, pip=bundle, setuptools=bundle, wheel=bundle, via=copy, app_data_dir=/root/.local/share/virtualenv)\n",
            "    added seed packages: pip==24.1, setuptools==70.1.0, wheel==0.43.0\n",
            "  activators BashActivator,CShellActivator,FishActivator,NushellActivator,PowerShellActivator,PythonActivator\n"
          ]
        }
      ],
      "source": [
        "!virtualenv diffae -p python3.8"
      ]
    },
    {
      "cell_type": "code",
      "execution_count": null,
      "metadata": {
        "colab": {
          "base_uri": "https://localhost:8080/"
        },
        "id": "rYbyzoab1yo3",
        "outputId": "7989b95d-c79e-4de0-8ffc-93717103ac11"
      },
      "outputs": [
        {
          "data": {
            "text/plain": []
          },
          "execution_count": 5,
          "metadata": {},
          "output_type": "execute_result"
        }
      ],
      "source": [
        "# %%shell\n",
        "# source diffae/bin/activate"
      ]
    },
    {
      "cell_type": "code",
      "execution_count": null,
      "metadata": {
        "id": "XtcNdido2VDL"
      },
      "outputs": [],
      "source": []
    },
    {
      "cell_type": "code",
      "execution_count": null,
      "metadata": {
        "id": "DyTLnnte3GYd"
      },
      "outputs": [],
      "source": [
        "# %load_ext autoreload\n",
        "# %autoreload 2"
      ]
    },
    {
      "cell_type": "code",
      "source": [
        "!source diffae/bin/activate ;pip install -r requirements.txt"
      ],
      "metadata": {
        "colab": {
          "base_uri": "https://localhost:8080/"
        },
        "id": "ybn83WI2_Prd",
        "outputId": "ad4102af-7175-434a-cd1a-11814b7b9ede"
      },
      "execution_count": null,
      "outputs": [
        {
          "output_type": "stream",
          "name": "stdout",
          "text": [
            "Collecting pytorch-lightning==1.4.5 (from -r requirements.txt (line 1))\n",
            "  Downloading pytorch_lightning-1.4.5-py3-none-any.whl.metadata (32 kB)\n",
            "Collecting torchmetrics==0.5.0 (from -r requirements.txt (line 2))\n",
            "  Downloading torchmetrics-0.5.0-py3-none-any.whl.metadata (15 kB)\n",
            "Collecting torch==1.8.1 (from -r requirements.txt (line 3))\n",
            "  Downloading torch-1.8.1-cp38-cp38-manylinux1_x86_64.whl.metadata (23 kB)\n",
            "Collecting torchvision (from -r requirements.txt (line 4))\n",
            "  Downloading torchvision-0.18.1-cp38-cp38-manylinux1_x86_64.whl.metadata (6.6 kB)\n",
            "Collecting scipy==1.5.4 (from -r requirements.txt (line 5))\n",
            "  Downloading scipy-1.5.4-cp38-cp38-manylinux1_x86_64.whl.metadata (2.0 kB)\n",
            "Collecting numpy==1.19.5 (from -r requirements.txt (line 6))\n",
            "  Downloading numpy-1.19.5-cp38-cp38-manylinux2010_x86_64.whl.metadata (2.0 kB)\n",
            "Collecting tqdm (from -r requirements.txt (line 7))\n",
            "  Downloading tqdm-4.66.4-py3-none-any.whl.metadata (57 kB)\n",
            "\u001b[2K     \u001b[90m━━━━━━━━━━━━━━━━━━━━━━━━━━━━━━━━━━━━━━━━\u001b[0m \u001b[32m57.6/57.6 kB\u001b[0m \u001b[31m2.3 MB/s\u001b[0m eta \u001b[36m0:00:00\u001b[0m\n",
            "\u001b[?25hCollecting pytorch-fid==0.2.0 (from -r requirements.txt (line 8))\n",
            "  Downloading pytorch-fid-0.2.0.tar.gz (11 kB)\n",
            "  Preparing metadata (setup.py) ... \u001b[?25l\u001b[?25hdone\n",
            "Collecting pandas==1.1.5 (from -r requirements.txt (line 9))\n",
            "  Downloading pandas-1.1.5-cp38-cp38-manylinux1_x86_64.whl.metadata (4.7 kB)\n",
            "Collecting lpips==0.1.4 (from -r requirements.txt (line 10))\n",
            "  Downloading lpips-0.1.4-py3-none-any.whl.metadata (10 kB)\n",
            "Collecting lmdb==1.2.1 (from -r requirements.txt (line 11))\n",
            "  Downloading lmdb-1.2.1-cp38-cp38-manylinux2010_x86_64.whl.metadata (1.1 kB)\n",
            "Collecting ftfy (from -r requirements.txt (line 12))\n",
            "  Downloading ftfy-6.2.0-py3-none-any.whl.metadata (7.3 kB)\n",
            "Collecting regex (from -r requirements.txt (line 13))\n",
            "  Downloading regex-2024.5.15-cp38-cp38-manylinux_2_17_x86_64.manylinux2014_x86_64.whl.metadata (40 kB)\n",
            "\u001b[2K     \u001b[90m━━━━━━━━━━━━━━━━━━━━━━━━━━━━━━━━━━━━━━━━\u001b[0m \u001b[32m40.9/40.9 kB\u001b[0m \u001b[31m3.5 MB/s\u001b[0m eta \u001b[36m0:00:00\u001b[0m\n",
            "\u001b[?25hCollecting future>=0.17.1 (from pytorch-lightning==1.4.5->-r requirements.txt (line 1))\n",
            "  Downloading future-1.0.0-py3-none-any.whl.metadata (4.0 kB)\n",
            "Collecting PyYAML>=5.1 (from pytorch-lightning==1.4.5->-r requirements.txt (line 1))\n",
            "  Downloading PyYAML-6.0.1-cp38-cp38-manylinux_2_17_x86_64.manylinux2014_x86_64.whl.metadata (2.1 kB)\n",
            "Collecting fsspec!=2021.06.0,>=2021.05.0 (from fsspec[http]!=2021.06.0,>=2021.05.0->pytorch-lightning==1.4.5->-r requirements.txt (line 1))\n",
            "  Downloading fsspec-2024.6.1-py3-none-any.whl.metadata (11 kB)\n",
            "Collecting tensorboard>=2.2.0 (from pytorch-lightning==1.4.5->-r requirements.txt (line 1))\n",
            "  Downloading tensorboard-2.14.0-py3-none-any.whl.metadata (1.8 kB)\n",
            "Collecting pyDeprecate==0.3.1 (from pytorch-lightning==1.4.5->-r requirements.txt (line 1))\n",
            "  Downloading pyDeprecate-0.3.1-py3-none-any.whl.metadata (10 kB)\n",
            "Collecting packaging>=17.0 (from pytorch-lightning==1.4.5->-r requirements.txt (line 1))\n",
            "  Using cached packaging-24.1-py3-none-any.whl.metadata (3.2 kB)\n",
            "Collecting typing-extensions (from pytorch-lightning==1.4.5->-r requirements.txt (line 1))\n",
            "  Downloading typing_extensions-4.12.2-py3-none-any.whl.metadata (3.0 kB)\n",
            "Collecting pillow (from pytorch-fid==0.2.0->-r requirements.txt (line 8))\n",
            "  Downloading pillow-10.4.0-cp38-cp38-manylinux_2_28_x86_64.whl.metadata (9.2 kB)\n",
            "Collecting python-dateutil>=2.7.3 (from pandas==1.1.5->-r requirements.txt (line 9))\n",
            "  Downloading python_dateutil-2.9.0.post0-py2.py3-none-any.whl.metadata (8.4 kB)\n",
            "Collecting pytz>=2017.2 (from pandas==1.1.5->-r requirements.txt (line 9))\n",
            "  Downloading pytz-2024.1-py2.py3-none-any.whl.metadata (22 kB)\n",
            "INFO: pip is looking at multiple versions of torchvision to determine which version is compatible with other requirements. This could take a while.\n",
            "Collecting torchvision (from -r requirements.txt (line 4))\n",
            "  Downloading torchvision-0.18.0-cp38-cp38-manylinux1_x86_64.whl.metadata (6.6 kB)\n",
            "  Downloading torchvision-0.17.2-cp38-cp38-manylinux1_x86_64.whl.metadata (6.6 kB)\n",
            "  Downloading torchvision-0.17.1-cp38-cp38-manylinux1_x86_64.whl.metadata (6.6 kB)\n",
            "  Downloading torchvision-0.17.0-cp38-cp38-manylinux1_x86_64.whl.metadata (6.6 kB)\n",
            "Collecting requests (from torchvision->-r requirements.txt (line 4))\n",
            "  Downloading requests-2.32.3-py3-none-any.whl.metadata (4.6 kB)\n",
            "Collecting torchvision (from -r requirements.txt (line 4))\n",
            "  Downloading torchvision-0.16.2-cp38-cp38-manylinux1_x86_64.whl.metadata (6.6 kB)\n",
            "  Downloading torchvision-0.16.1-cp38-cp38-manylinux1_x86_64.whl.metadata (6.6 kB)\n",
            "  Downloading torchvision-0.16.0-cp38-cp38-manylinux1_x86_64.whl.metadata (6.6 kB)\n",
            "INFO: pip is still looking at multiple versions of torchvision to determine which version is compatible with other requirements. This could take a while.\n",
            "  Downloading torchvision-0.15.2-cp38-cp38-manylinux1_x86_64.whl.metadata (11 kB)\n",
            "  Downloading torchvision-0.15.1-cp38-cp38-manylinux1_x86_64.whl.metadata (11 kB)\n",
            "  Downloading torchvision-0.14.1-cp38-cp38-manylinux1_x86_64.whl.metadata (11 kB)\n",
            "  Downloading torchvision-0.14.0-cp38-cp38-manylinux1_x86_64.whl.metadata (11 kB)\n",
            "  Downloading torchvision-0.13.1-cp38-cp38-manylinux1_x86_64.whl.metadata (10 kB)\n",
            "INFO: This is taking longer than usual. You might need to provide the dependency resolver with stricter constraints to reduce runtime. See https://pip.pypa.io/warnings/backtracking for guidance. If you want to abort this run, press Ctrl + C.\n",
            "  Downloading torchvision-0.13.0-cp38-cp38-manylinux1_x86_64.whl.metadata (10 kB)\n",
            "  Downloading torchvision-0.12.0-cp38-cp38-manylinux1_x86_64.whl.metadata (10 kB)\n",
            "  Downloading torchvision-0.11.3-cp38-cp38-manylinux1_x86_64.whl.metadata (8.8 kB)\n",
            "  Downloading torchvision-0.11.2-cp38-cp38-manylinux1_x86_64.whl.metadata (8.8 kB)\n",
            "  Downloading torchvision-0.11.1-cp38-cp38-manylinux1_x86_64.whl.metadata (8.8 kB)\n",
            "  Downloading torchvision-0.10.1-cp38-cp38-manylinux1_x86_64.whl.metadata (7.9 kB)\n",
            "  Downloading torchvision-0.10.0-cp38-cp38-manylinux1_x86_64.whl.metadata (7.9 kB)\n",
            "  Downloading torchvision-0.9.1-cp38-cp38-manylinux1_x86_64.whl.metadata (7.9 kB)\n",
            "Collecting wcwidth<0.3.0,>=0.2.12 (from ftfy->-r requirements.txt (line 12))\n",
            "  Downloading wcwidth-0.2.13-py2.py3-none-any.whl.metadata (14 kB)\n",
            "Collecting aiohttp!=4.0.0a0,!=4.0.0a1 (from fsspec[http]!=2021.06.0,>=2021.05.0->pytorch-lightning==1.4.5->-r requirements.txt (line 1))\n",
            "  Downloading aiohttp-3.9.5-cp38-cp38-manylinux_2_17_x86_64.manylinux2014_x86_64.whl.metadata (7.5 kB)\n",
            "Collecting six>=1.5 (from python-dateutil>=2.7.3->pandas==1.1.5->-r requirements.txt (line 9))\n",
            "  Downloading six-1.16.0-py2.py3-none-any.whl.metadata (1.8 kB)\n",
            "Collecting absl-py>=0.4 (from tensorboard>=2.2.0->pytorch-lightning==1.4.5->-r requirements.txt (line 1))\n",
            "  Downloading absl_py-2.1.0-py3-none-any.whl.metadata (2.3 kB)\n",
            "Collecting grpcio>=1.48.2 (from tensorboard>=2.2.0->pytorch-lightning==1.4.5->-r requirements.txt (line 1))\n",
            "  Downloading grpcio-1.64.1-cp38-cp38-manylinux_2_17_x86_64.manylinux2014_x86_64.whl.metadata (3.3 kB)\n",
            "Collecting google-auth<3,>=1.6.3 (from tensorboard>=2.2.0->pytorch-lightning==1.4.5->-r requirements.txt (line 1))\n",
            "  Downloading google_auth-2.32.0-py2.py3-none-any.whl.metadata (4.7 kB)\n",
            "Collecting google-auth-oauthlib<1.1,>=0.5 (from tensorboard>=2.2.0->pytorch-lightning==1.4.5->-r requirements.txt (line 1))\n",
            "  Downloading google_auth_oauthlib-1.0.0-py2.py3-none-any.whl.metadata (2.7 kB)\n",
            "Collecting markdown>=2.6.8 (from tensorboard>=2.2.0->pytorch-lightning==1.4.5->-r requirements.txt (line 1))\n",
            "  Downloading Markdown-3.6-py3-none-any.whl.metadata (7.0 kB)\n",
            "Collecting protobuf>=3.19.6 (from tensorboard>=2.2.0->pytorch-lightning==1.4.5->-r requirements.txt (line 1))\n",
            "  Downloading protobuf-5.27.2-cp38-abi3-manylinux2014_x86_64.whl.metadata (592 bytes)\n",
            "Requirement already satisfied: setuptools>=41.0.0 in ./diffae/lib/python3.8/site-packages (from tensorboard>=2.2.0->pytorch-lightning==1.4.5->-r requirements.txt (line 1)) (70.1.0)\n",
            "Collecting tensorboard-data-server<0.8.0,>=0.7.0 (from tensorboard>=2.2.0->pytorch-lightning==1.4.5->-r requirements.txt (line 1))\n",
            "  Downloading tensorboard_data_server-0.7.2-py3-none-manylinux_2_31_x86_64.whl.metadata (1.1 kB)\n",
            "Collecting werkzeug>=1.0.1 (from tensorboard>=2.2.0->pytorch-lightning==1.4.5->-r requirements.txt (line 1))\n",
            "  Downloading werkzeug-3.0.3-py3-none-any.whl.metadata (3.7 kB)\n",
            "Requirement already satisfied: wheel>=0.26 in ./diffae/lib/python3.8/site-packages (from tensorboard>=2.2.0->pytorch-lightning==1.4.5->-r requirements.txt (line 1)) (0.43.0)\n",
            "Collecting aiosignal>=1.1.2 (from aiohttp!=4.0.0a0,!=4.0.0a1->fsspec[http]!=2021.06.0,>=2021.05.0->pytorch-lightning==1.4.5->-r requirements.txt (line 1))\n",
            "  Downloading aiosignal-1.3.1-py3-none-any.whl.metadata (4.0 kB)\n",
            "Collecting attrs>=17.3.0 (from aiohttp!=4.0.0a0,!=4.0.0a1->fsspec[http]!=2021.06.0,>=2021.05.0->pytorch-lightning==1.4.5->-r requirements.txt (line 1))\n",
            "  Downloading attrs-23.2.0-py3-none-any.whl.metadata (9.5 kB)\n",
            "Collecting frozenlist>=1.1.1 (from aiohttp!=4.0.0a0,!=4.0.0a1->fsspec[http]!=2021.06.0,>=2021.05.0->pytorch-lightning==1.4.5->-r requirements.txt (line 1))\n",
            "  Downloading frozenlist-1.4.1-cp38-cp38-manylinux_2_5_x86_64.manylinux1_x86_64.manylinux_2_17_x86_64.manylinux2014_x86_64.whl.metadata (12 kB)\n",
            "Collecting multidict<7.0,>=4.5 (from aiohttp!=4.0.0a0,!=4.0.0a1->fsspec[http]!=2021.06.0,>=2021.05.0->pytorch-lightning==1.4.5->-r requirements.txt (line 1))\n",
            "  Downloading multidict-6.0.5-cp38-cp38-manylinux_2_17_x86_64.manylinux2014_x86_64.whl.metadata (4.2 kB)\n",
            "Collecting yarl<2.0,>=1.0 (from aiohttp!=4.0.0a0,!=4.0.0a1->fsspec[http]!=2021.06.0,>=2021.05.0->pytorch-lightning==1.4.5->-r requirements.txt (line 1))\n",
            "  Downloading yarl-1.9.4-cp38-cp38-manylinux_2_17_x86_64.manylinux2014_x86_64.whl.metadata (31 kB)\n",
            "Collecting async-timeout<5.0,>=4.0 (from aiohttp!=4.0.0a0,!=4.0.0a1->fsspec[http]!=2021.06.0,>=2021.05.0->pytorch-lightning==1.4.5->-r requirements.txt (line 1))\n",
            "  Downloading async_timeout-4.0.3-py3-none-any.whl.metadata (4.2 kB)\n",
            "Collecting cachetools<6.0,>=2.0.0 (from google-auth<3,>=1.6.3->tensorboard>=2.2.0->pytorch-lightning==1.4.5->-r requirements.txt (line 1))\n",
            "  Downloading cachetools-5.3.3-py3-none-any.whl.metadata (5.3 kB)\n",
            "Collecting pyasn1-modules>=0.2.1 (from google-auth<3,>=1.6.3->tensorboard>=2.2.0->pytorch-lightning==1.4.5->-r requirements.txt (line 1))\n",
            "  Downloading pyasn1_modules-0.4.0-py3-none-any.whl.metadata (3.4 kB)\n",
            "Collecting rsa<5,>=3.1.4 (from google-auth<3,>=1.6.3->tensorboard>=2.2.0->pytorch-lightning==1.4.5->-r requirements.txt (line 1))\n",
            "  Downloading rsa-4.9-py3-none-any.whl.metadata (4.2 kB)\n",
            "Collecting requests-oauthlib>=0.7.0 (from google-auth-oauthlib<1.1,>=0.5->tensorboard>=2.2.0->pytorch-lightning==1.4.5->-r requirements.txt (line 1))\n",
            "  Downloading requests_oauthlib-2.0.0-py2.py3-none-any.whl.metadata (11 kB)\n",
            "Collecting importlib-metadata>=4.4 (from markdown>=2.6.8->tensorboard>=2.2.0->pytorch-lightning==1.4.5->-r requirements.txt (line 1))\n",
            "  Downloading importlib_metadata-8.0.0-py3-none-any.whl.metadata (4.6 kB)\n",
            "Collecting charset-normalizer<4,>=2 (from requests->torchvision->-r requirements.txt (line 4))\n",
            "  Downloading charset_normalizer-3.3.2-cp38-cp38-manylinux_2_17_x86_64.manylinux2014_x86_64.whl.metadata (33 kB)\n",
            "Collecting idna<4,>=2.5 (from requests->torchvision->-r requirements.txt (line 4))\n",
            "  Downloading idna-3.7-py3-none-any.whl.metadata (9.9 kB)\n",
            "Collecting urllib3<3,>=1.21.1 (from requests->torchvision->-r requirements.txt (line 4))\n",
            "  Downloading urllib3-2.2.2-py3-none-any.whl.metadata (6.4 kB)\n",
            "Collecting certifi>=2017.4.17 (from requests->torchvision->-r requirements.txt (line 4))\n",
            "  Downloading certifi-2024.7.4-py3-none-any.whl.metadata (2.2 kB)\n",
            "Collecting MarkupSafe>=2.1.1 (from werkzeug>=1.0.1->tensorboard>=2.2.0->pytorch-lightning==1.4.5->-r requirements.txt (line 1))\n",
            "  Downloading MarkupSafe-2.1.5-cp38-cp38-manylinux_2_17_x86_64.manylinux2014_x86_64.whl.metadata (3.0 kB)\n",
            "Collecting zipp>=0.5 (from importlib-metadata>=4.4->markdown>=2.6.8->tensorboard>=2.2.0->pytorch-lightning==1.4.5->-r requirements.txt (line 1))\n",
            "  Downloading zipp-3.19.2-py3-none-any.whl.metadata (3.6 kB)\n",
            "Collecting pyasn1<0.7.0,>=0.4.6 (from pyasn1-modules>=0.2.1->google-auth<3,>=1.6.3->tensorboard>=2.2.0->pytorch-lightning==1.4.5->-r requirements.txt (line 1))\n",
            "  Downloading pyasn1-0.6.0-py2.py3-none-any.whl.metadata (8.3 kB)\n",
            "Collecting oauthlib>=3.0.0 (from requests-oauthlib>=0.7.0->google-auth-oauthlib<1.1,>=0.5->tensorboard>=2.2.0->pytorch-lightning==1.4.5->-r requirements.txt (line 1))\n",
            "  Downloading oauthlib-3.2.2-py3-none-any.whl.metadata (7.5 kB)\n",
            "Downloading pytorch_lightning-1.4.5-py3-none-any.whl (919 kB)\n",
            "\u001b[2K   \u001b[90m━━━━━━━━━━━━━━━━━━━━━━━━━━━━━━━━━━━━━━━━\u001b[0m \u001b[32m919.2/919.2 kB\u001b[0m \u001b[31m8.1 MB/s\u001b[0m eta \u001b[36m0:00:00\u001b[0m\n",
            "\u001b[?25hDownloading torchmetrics-0.5.0-py3-none-any.whl (272 kB)\n",
            "\u001b[2K   \u001b[90m━━━━━━━━━━━━━━━━━━━━━━━━━━━━━━━━━━━━━━━━\u001b[0m \u001b[32m272.0/272.0 kB\u001b[0m \u001b[31m22.4 MB/s\u001b[0m eta \u001b[36m0:00:00\u001b[0m\n",
            "\u001b[?25hDownloading torch-1.8.1-cp38-cp38-manylinux1_x86_64.whl (804.1 MB)\n",
            "\u001b[2K   \u001b[90m━━━━━━━━━━━━━━━━━━━━━━━━━━━━━━━━━━━━━━━━\u001b[0m \u001b[32m804.1/804.1 MB\u001b[0m \u001b[31m2.2 MB/s\u001b[0m eta \u001b[36m0:00:00\u001b[0m\n",
            "\u001b[?25hDownloading scipy-1.5.4-cp38-cp38-manylinux1_x86_64.whl (25.8 MB)\n",
            "\u001b[2K   \u001b[90m━━━━━━━━━━━━━━━━━━━━━━━━━━━━━━━━━━━━━━━━\u001b[0m \u001b[32m25.8/25.8 MB\u001b[0m \u001b[31m26.4 MB/s\u001b[0m eta \u001b[36m0:00:00\u001b[0m\n",
            "\u001b[?25hDownloading numpy-1.19.5-cp38-cp38-manylinux2010_x86_64.whl (14.9 MB)\n",
            "\u001b[2K   \u001b[90m━━━━━━━━━━━━━━━━━━━━━━━━━━━━━━━━━━━━━━━━\u001b[0m \u001b[32m14.9/14.9 MB\u001b[0m \u001b[31m28.9 MB/s\u001b[0m eta \u001b[36m0:00:00\u001b[0m\n",
            "\u001b[?25hDownloading pandas-1.1.5-cp38-cp38-manylinux1_x86_64.whl (9.3 MB)\n",
            "\u001b[2K   \u001b[90m━━━━━━━━━━━━━━━━━━━━━━━━━━━━━━━━━━━━━━━━\u001b[0m \u001b[32m9.3/9.3 MB\u001b[0m \u001b[31m30.1 MB/s\u001b[0m eta \u001b[36m0:00:00\u001b[0m\n",
            "\u001b[?25hDownloading lpips-0.1.4-py3-none-any.whl (53 kB)\n",
            "\u001b[2K   \u001b[90m━━━━━━━━━━━━━━━━━━━━━━━━━━━━━━━━━━━━━━━━\u001b[0m \u001b[32m53.8/53.8 kB\u001b[0m \u001b[31m4.7 MB/s\u001b[0m eta \u001b[36m0:00:00\u001b[0m\n",
            "\u001b[?25hDownloading lmdb-1.2.1-cp38-cp38-manylinux2010_x86_64.whl (306 kB)\n",
            "\u001b[2K   \u001b[90m━━━━━━━━━━━━━━━━━━━━━━━━━━━━━━━━━━━━━━━━\u001b[0m \u001b[32m306.7/306.7 kB\u001b[0m \u001b[31m18.3 MB/s\u001b[0m eta \u001b[36m0:00:00\u001b[0m\n",
            "\u001b[?25hDownloading pyDeprecate-0.3.1-py3-none-any.whl (10 kB)\n",
            "Downloading torchvision-0.9.1-cp38-cp38-manylinux1_x86_64.whl (17.4 MB)\n",
            "\u001b[2K   \u001b[90m━━━━━━━━━━━━━━━━━━━━━━━━━━━━━━━━━━━━━━━━\u001b[0m \u001b[32m17.4/17.4 MB\u001b[0m \u001b[31m28.9 MB/s\u001b[0m eta \u001b[36m0:00:00\u001b[0m\n",
            "\u001b[?25hDownloading tqdm-4.66.4-py3-none-any.whl (78 kB)\n",
            "\u001b[2K   \u001b[90m━━━━━━━━━━━━━━━━━━━━━━━━━━━━━━━━━━━━━━━━\u001b[0m \u001b[32m78.3/78.3 kB\u001b[0m \u001b[31m7.0 MB/s\u001b[0m eta \u001b[36m0:00:00\u001b[0m\n",
            "\u001b[?25hDownloading ftfy-6.2.0-py3-none-any.whl (54 kB)\n",
            "\u001b[2K   \u001b[90m━━━━━━━━━━━━━━━━━━━━━━━━━━━━━━━━━━━━━━━━\u001b[0m \u001b[32m54.4/54.4 kB\u001b[0m \u001b[31m4.6 MB/s\u001b[0m eta \u001b[36m0:00:00\u001b[0m\n",
            "\u001b[?25hDownloading regex-2024.5.15-cp38-cp38-manylinux_2_17_x86_64.manylinux2014_x86_64.whl (776 kB)\n",
            "\u001b[2K   \u001b[90m━━━━━━━━━━━━━━━━━━━━━━━━━━━━━━━━━━━━━━━━\u001b[0m \u001b[32m776.2/776.2 kB\u001b[0m \u001b[31m26.5 MB/s\u001b[0m eta \u001b[36m0:00:00\u001b[0m\n",
            "\u001b[?25hDownloading fsspec-2024.6.1-py3-none-any.whl (177 kB)\n",
            "\u001b[2K   \u001b[90m━━━━━━━━━━━━━━━━━━━━━━━━━━━━━━━━━━━━━━━━\u001b[0m \u001b[32m177.6/177.6 kB\u001b[0m \u001b[31m15.3 MB/s\u001b[0m eta \u001b[36m0:00:00\u001b[0m\n",
            "\u001b[?25hDownloading future-1.0.0-py3-none-any.whl (491 kB)\n",
            "\u001b[2K   \u001b[90m━━━━━━━━━━━━━━━━━━━━━━━━━━━━━━━━━━━━━━━━\u001b[0m \u001b[32m491.3/491.3 kB\u001b[0m \u001b[31m24.5 MB/s\u001b[0m eta \u001b[36m0:00:00\u001b[0m\n",
            "\u001b[?25hUsing cached packaging-24.1-py3-none-any.whl (53 kB)\n",
            "Downloading pillow-10.4.0-cp38-cp38-manylinux_2_28_x86_64.whl (4.5 MB)\n",
            "\u001b[2K   \u001b[90m━━━━━━━━━━━━━━━━━━━━━━━━━━━━━━━━━━━━━━━━\u001b[0m \u001b[32m4.5/4.5 MB\u001b[0m \u001b[31m29.1 MB/s\u001b[0m eta \u001b[36m0:00:00\u001b[0m\n",
            "\u001b[?25hDownloading python_dateutil-2.9.0.post0-py2.py3-none-any.whl (229 kB)\n",
            "\u001b[2K   \u001b[90m━━━━━━━━━━━━━━━━━━━━━━━━━━━━━━━━━━━━━━━━\u001b[0m \u001b[32m229.9/229.9 kB\u001b[0m \u001b[31m16.3 MB/s\u001b[0m eta \u001b[36m0:00:00\u001b[0m\n",
            "\u001b[?25hDownloading pytz-2024.1-py2.py3-none-any.whl (505 kB)\n",
            "\u001b[2K   \u001b[90m━━━━━━━━━━━━━━━━━━━━━━━━━━━━━━━━━━━━━━━━\u001b[0m \u001b[32m505.5/505.5 kB\u001b[0m \u001b[31m23.6 MB/s\u001b[0m eta \u001b[36m0:00:00\u001b[0m\n",
            "\u001b[?25hDownloading PyYAML-6.0.1-cp38-cp38-manylinux_2_17_x86_64.manylinux2014_x86_64.whl (736 kB)\n",
            "\u001b[2K   \u001b[90m━━━━━━━━━━━━━━━━━━━━━━━━━━━━━━━━━━━━━━━━\u001b[0m \u001b[32m736.6/736.6 kB\u001b[0m \u001b[31m28.0 MB/s\u001b[0m eta \u001b[36m0:00:00\u001b[0m\n",
            "\u001b[?25hDownloading tensorboard-2.14.0-py3-none-any.whl (5.5 MB)\n",
            "\u001b[2K   \u001b[90m━━━━━━━━━━━━━━━━━━━━━━━━━━━━━━━━━━━━━━━━\u001b[0m \u001b[32m5.5/5.5 MB\u001b[0m \u001b[31m29.9 MB/s\u001b[0m eta \u001b[36m0:00:00\u001b[0m\n",
            "\u001b[?25hDownloading wcwidth-0.2.13-py2.py3-none-any.whl (34 kB)\n",
            "Downloading typing_extensions-4.12.2-py3-none-any.whl (37 kB)\n",
            "Downloading absl_py-2.1.0-py3-none-any.whl (133 kB)\n",
            "\u001b[2K   \u001b[90m━━━━━━━━━━━━━━━━━━━━━━━━━━━━━━━━━━━━━━━━\u001b[0m \u001b[32m133.7/133.7 kB\u001b[0m \u001b[31m11.6 MB/s\u001b[0m eta \u001b[36m0:00:00\u001b[0m\n",
            "\u001b[?25hDownloading aiohttp-3.9.5-cp38-cp38-manylinux_2_17_x86_64.manylinux2014_x86_64.whl (1.3 MB)\n",
            "\u001b[2K   \u001b[90m━━━━━━━━━━━━━━━━━━━━━━━━━━━━━━━━━━━━━━━━\u001b[0m \u001b[32m1.3/1.3 MB\u001b[0m \u001b[31m23.6 MB/s\u001b[0m eta \u001b[36m0:00:00\u001b[0m\n",
            "\u001b[?25hDownloading google_auth-2.32.0-py2.py3-none-any.whl (195 kB)\n",
            "\u001b[2K   \u001b[90m━━━━━━━━━━━━━━━━━━━━━━━━━━━━━━━━━━━━━━━━\u001b[0m \u001b[32m195.5/195.5 kB\u001b[0m \u001b[31m11.4 MB/s\u001b[0m eta \u001b[36m0:00:00\u001b[0m\n",
            "\u001b[?25hDownloading google_auth_oauthlib-1.0.0-py2.py3-none-any.whl (18 kB)\n",
            "Downloading grpcio-1.64.1-cp38-cp38-manylinux_2_17_x86_64.manylinux2014_x86_64.whl (5.6 MB)\n",
            "\u001b[2K   \u001b[90m━━━━━━━━━━━━━━━━━━━━━━━━━━━━━━━━━━━━━━━━\u001b[0m \u001b[32m5.6/5.6 MB\u001b[0m \u001b[31m28.3 MB/s\u001b[0m eta \u001b[36m0:00:00\u001b[0m\n",
            "\u001b[?25hDownloading Markdown-3.6-py3-none-any.whl (105 kB)\n",
            "\u001b[2K   \u001b[90m━━━━━━━━━━━━━━━━━━━━━━━━━━━━━━━━━━━━━━━━\u001b[0m \u001b[32m105.4/105.4 kB\u001b[0m \u001b[31m5.1 MB/s\u001b[0m eta \u001b[36m0:00:00\u001b[0m\n",
            "\u001b[?25hDownloading protobuf-5.27.2-cp38-abi3-manylinux2014_x86_64.whl (309 kB)\n",
            "\u001b[2K   \u001b[90m━━━━━━━━━━━━━━━━━━━━━━━━━━━━━━━━━━━━━━━━\u001b[0m \u001b[32m309.3/309.3 kB\u001b[0m \u001b[31m19.6 MB/s\u001b[0m eta \u001b[36m0:00:00\u001b[0m\n",
            "\u001b[?25hDownloading requests-2.32.3-py3-none-any.whl (64 kB)\n",
            "\u001b[2K   \u001b[90m━━━━━━━━━━━━━━━━━━━━━━━━━━━━━━━━━━━━━━━━\u001b[0m \u001b[32m64.9/64.9 kB\u001b[0m \u001b[31m5.7 MB/s\u001b[0m eta \u001b[36m0:00:00\u001b[0m\n",
            "\u001b[?25hDownloading six-1.16.0-py2.py3-none-any.whl (11 kB)\n",
            "Downloading tensorboard_data_server-0.7.2-py3-none-manylinux_2_31_x86_64.whl (6.6 MB)\n",
            "\u001b[2K   \u001b[90m━━━━━━━━━━━━━━━━━━━━━━━━━━━━━━━━━━━━━━━━\u001b[0m \u001b[32m6.6/6.6 MB\u001b[0m \u001b[31m30.5 MB/s\u001b[0m eta \u001b[36m0:00:00\u001b[0m\n",
            "\u001b[?25hDownloading werkzeug-3.0.3-py3-none-any.whl (227 kB)\n",
            "\u001b[2K   \u001b[90m━━━━━━━━━━━━━━━━━━━━━━━━━━━━━━━━━━━━━━━━\u001b[0m \u001b[32m227.3/227.3 kB\u001b[0m \u001b[31m16.6 MB/s\u001b[0m eta \u001b[36m0:00:00\u001b[0m\n",
            "\u001b[?25hDownloading aiosignal-1.3.1-py3-none-any.whl (7.6 kB)\n",
            "Downloading async_timeout-4.0.3-py3-none-any.whl (5.7 kB)\n",
            "Downloading attrs-23.2.0-py3-none-any.whl (60 kB)\n",
            "\u001b[2K   \u001b[90m━━━━━━━━━━━━━━━━━━━━━━━━━━━━━━━━━━━━━━━━\u001b[0m \u001b[32m60.8/60.8 kB\u001b[0m \u001b[31m5.5 MB/s\u001b[0m eta \u001b[36m0:00:00\u001b[0m\n",
            "\u001b[?25hDownloading cachetools-5.3.3-py3-none-any.whl (9.3 kB)\n",
            "Downloading certifi-2024.7.4-py3-none-any.whl (162 kB)\n",
            "\u001b[2K   \u001b[90m━━━━━━━━━━━━━━━━━━━━━━━━━━━━━━━━━━━━━━━━\u001b[0m \u001b[32m163.0/163.0 kB\u001b[0m \u001b[31m14.0 MB/s\u001b[0m eta \u001b[36m0:00:00\u001b[0m\n",
            "\u001b[?25hDownloading charset_normalizer-3.3.2-cp38-cp38-manylinux_2_17_x86_64.manylinux2014_x86_64.whl (141 kB)\n",
            "\u001b[2K   \u001b[90m━━━━━━━━━━━━━━━━━━━━━━━━━━━━━━━━━━━━━━━━\u001b[0m \u001b[32m141.1/141.1 kB\u001b[0m \u001b[31m12.7 MB/s\u001b[0m eta \u001b[36m0:00:00\u001b[0m\n",
            "\u001b[?25hDownloading frozenlist-1.4.1-cp38-cp38-manylinux_2_5_x86_64.manylinux1_x86_64.manylinux_2_17_x86_64.manylinux2014_x86_64.whl (240 kB)\n",
            "\u001b[2K   \u001b[90m━━━━━━━━━━━━━━━━━━━━━━━━━━━━━━━━━━━━━━━━\u001b[0m \u001b[32m240.9/240.9 kB\u001b[0m \u001b[31m17.5 MB/s\u001b[0m eta \u001b[36m0:00:00\u001b[0m\n",
            "\u001b[?25hDownloading idna-3.7-py3-none-any.whl (66 kB)\n",
            "\u001b[2K   \u001b[90m━━━━━━━━━━━━━━━━━━━━━━━━━━━━━━━━━━━━━━━━\u001b[0m \u001b[32m66.8/66.8 kB\u001b[0m \u001b[31m5.8 MB/s\u001b[0m eta \u001b[36m0:00:00\u001b[0m\n",
            "\u001b[?25hDownloading importlib_metadata-8.0.0-py3-none-any.whl (24 kB)\n",
            "Downloading MarkupSafe-2.1.5-cp38-cp38-manylinux_2_17_x86_64.manylinux2014_x86_64.whl (26 kB)\n",
            "Downloading multidict-6.0.5-cp38-cp38-manylinux_2_17_x86_64.manylinux2014_x86_64.whl (129 kB)\n",
            "\u001b[2K   \u001b[90m━━━━━━━━━━━━━━━━━━━━━━━━━━━━━━━━━━━━━━━━\u001b[0m \u001b[32m129.3/129.3 kB\u001b[0m \u001b[31m12.3 MB/s\u001b[0m eta \u001b[36m0:00:00\u001b[0m\n",
            "\u001b[?25hDownloading pyasn1_modules-0.4.0-py3-none-any.whl (181 kB)\n",
            "\u001b[2K   \u001b[90m━━━━━━━━━━━━━━━━━━━━━━━━━━━━━━━━━━━━━━━━\u001b[0m \u001b[32m181.2/181.2 kB\u001b[0m \u001b[31m15.2 MB/s\u001b[0m eta \u001b[36m0:00:00\u001b[0m\n",
            "\u001b[?25hDownloading requests_oauthlib-2.0.0-py2.py3-none-any.whl (24 kB)\n",
            "Downloading rsa-4.9-py3-none-any.whl (34 kB)\n",
            "Downloading urllib3-2.2.2-py3-none-any.whl (121 kB)\n",
            "\u001b[2K   \u001b[90m━━━━━━━━━━━━━━━━━━━━━━━━━━━━━━━━━━━━━━━━\u001b[0m \u001b[32m121.4/121.4 kB\u001b[0m \u001b[31m7.8 MB/s\u001b[0m eta \u001b[36m0:00:00\u001b[0m\n",
            "\u001b[?25hDownloading yarl-1.9.4-cp38-cp38-manylinux_2_17_x86_64.manylinux2014_x86_64.whl (308 kB)\n",
            "\u001b[2K   \u001b[90m━━━━━━━━━━━━━━━━━━━━━━━━━━━━━━━━━━━━━━━━\u001b[0m \u001b[32m308.8/308.8 kB\u001b[0m \u001b[31m17.7 MB/s\u001b[0m eta \u001b[36m0:00:00\u001b[0m\n",
            "\u001b[?25hDownloading oauthlib-3.2.2-py3-none-any.whl (151 kB)\n",
            "\u001b[2K   \u001b[90m━━━━━━━━━━━━━━━━━━━━━━━━━━━━━━━━━━━━━━━━\u001b[0m \u001b[32m151.7/151.7 kB\u001b[0m \u001b[31m13.5 MB/s\u001b[0m eta \u001b[36m0:00:00\u001b[0m\n",
            "\u001b[?25hDownloading pyasn1-0.6.0-py2.py3-none-any.whl (85 kB)\n",
            "\u001b[2K   \u001b[90m━━━━━━━━━━━━━━━━━━━━━━━━━━━━━━━━━━━━━━━━\u001b[0m \u001b[32m85.3/85.3 kB\u001b[0m \u001b[31m7.6 MB/s\u001b[0m eta \u001b[36m0:00:00\u001b[0m\n",
            "\u001b[?25hDownloading zipp-3.19.2-py3-none-any.whl (9.0 kB)\n",
            "Building wheels for collected packages: pytorch-fid\n",
            "  Building wheel for pytorch-fid (setup.py) ... \u001b[?25l\u001b[?25hdone\n",
            "  Created wheel for pytorch-fid: filename=pytorch_fid-0.2.0-py3-none-any.whl size=10524 sha256=cc03a81530c0c28b975879c23f2db5c2b29de9371001aca00ba1ef91231dbdc8\n",
            "  Stored in directory: /root/.cache/pip/wheels/7f/ea/58/e64320396e535e27cfbbef93e1af3e7d825d4bc152f9c0328a\n",
            "Successfully built pytorch-fid\n",
            "Installing collected packages: wcwidth, pytz, lmdb, zipp, urllib3, typing-extensions, tqdm, tensorboard-data-server, six, regex, PyYAML, pyDeprecate, pyasn1, protobuf, pillow, packaging, oauthlib, numpy, multidict, MarkupSafe, idna, grpcio, future, ftfy, fsspec, frozenlist, charset-normalizer, certifi, cachetools, attrs, async-timeout, absl-py, yarl, werkzeug, torch, scipy, rsa, requests, python-dateutil, pyasn1-modules, importlib-metadata, aiosignal, torchvision, torchmetrics, requests-oauthlib, pandas, markdown, google-auth, aiohttp, pytorch-fid, lpips, google-auth-oauthlib, tensorboard, pytorch-lightning\n",
            "Successfully installed MarkupSafe-2.1.5 PyYAML-6.0.1 absl-py-2.1.0 aiohttp-3.9.5 aiosignal-1.3.1 async-timeout-4.0.3 attrs-23.2.0 cachetools-5.3.3 certifi-2024.7.4 charset-normalizer-3.3.2 frozenlist-1.4.1 fsspec-2024.6.1 ftfy-6.2.0 future-1.0.0 google-auth-2.32.0 google-auth-oauthlib-1.0.0 grpcio-1.64.1 idna-3.7 importlib-metadata-8.0.0 lmdb-1.2.1 lpips-0.1.4 markdown-3.6 multidict-6.0.5 numpy-1.19.5 oauthlib-3.2.2 packaging-24.1 pandas-1.1.5 pillow-10.4.0 protobuf-5.27.2 pyDeprecate-0.3.1 pyasn1-0.6.0 pyasn1-modules-0.4.0 python-dateutil-2.9.0.post0 pytorch-fid-0.2.0 pytorch-lightning-1.4.5 pytz-2024.1 regex-2024.5.15 requests-2.32.3 requests-oauthlib-2.0.0 rsa-4.9 scipy-1.5.4 six-1.16.0 tensorboard-2.14.0 tensorboard-data-server-0.7.2 torch-1.8.1 torchmetrics-0.5.0 torchvision-0.9.1 tqdm-4.66.4 typing-extensions-4.12.2 urllib3-2.2.2 wcwidth-0.2.13 werkzeug-3.0.3 yarl-1.9.4 zipp-3.19.2\n"
          ]
        }
      ]
    },
    {
      "cell_type": "code",
      "execution_count": null,
      "metadata": {
        "id": "51ELPTLM4IxW"
      },
      "outputs": [],
      "source": [
        "# !source diffae/bin/activate ; pip install torch==1.7.1+cu110 torchvision==0.8.2+cu110 torchaudio==0.7.2  pytorch-lightning==1.2.2  torchtext==0.8.0 -f https://download.pytorch.org/whl/torch_stable.html\n",
        "# !source diffae/bin/activate ; pip install scipy==1.5.4\n",
        "# !source diffae/bin/activate ; pip install numpy==1.19.5\n",
        "# !source diffae/bin/activate ; pip install tqdm\n",
        "# !source diffae/bin/activate ; pip install pytorch-fid==0.2.0\n",
        "# !source diffae/bin/activate ; pip install pandas==1.1.5\n",
        "# !source diffae/bin/activate ; pip install lpips==0.1.4\n",
        "# !source diffae/bin/activate ; pip install lmdb==1.2.1\n",
        "# !source diffae/bin/activate ; pip install ftfy\n",
        "# !source diffae/bin/activate ; pip install regex\n",
        "# !source diffae/bin/activate ; pip install cmake==3.25.2\n",
        "# #!source diffae/bin/activate ; pip install dlib==19.24.2 requests\n",
        "# !source diffae/bin/activate ; pip install requests\n",
        "# #!source diffae/bin/activate ; pip install numpy"
      ]
    },
    {
      "cell_type": "code",
      "execution_count": null,
      "metadata": {
        "id": "POiEJPkODzwC"
      },
      "outputs": [],
      "source": [
        "# !pip install torch==1.7.1+cu110 torchvision==0.8.2+cu110 torchaudio==0.7.2  pytorch-lightning==1.2.2  torchtext==0.8.0 -f https://download.pytorch.org/whl/torch_stable.html\n",
        "# !pip install scipy==1.5.4\n",
        "# !pip install numpy==1.19.5\n",
        "# !pip install tqdm\n",
        "# !pip install pytorch-fid==0.2.0\n",
        "# !pip install pandas==1.1.5\n",
        "# !pip install lpips==0.1.4\n",
        "# !pip install lmdb==1.2.1\n",
        "# !pip install ftfy\n",
        "# !pip install regex\n",
        "# !pip install cmake==3.25.2\n",
        "# !pip install dlib==19.24.2 requests"
      ]
    },
    {
      "cell_type": "code",
      "execution_count": null,
      "metadata": {
        "id": "Q7q95q8cwNZX"
      },
      "outputs": [],
      "source": [
        "# !pip install torch torchvision torchaudio  pytorch-lightning  torchtext -f https://download.pytorch.org/whl/torch_stable.html\n",
        "# !pip install scipy\n",
        "# !pip install numpy\n",
        "# !pip install tqdm\n",
        "# !pip install pytorch-fid\n",
        "# !pip install pandas\n",
        "# !pip install lpips\n",
        "# !pip install lmdb\n",
        "# !pip install ftfy\n",
        "# !pip install regex\n",
        "# !pip install dlib requests"
      ]
    },
    {
      "cell_type": "code",
      "execution_count": null,
      "metadata": {
        "id": "vFoxRy9u3Izf"
      },
      "outputs": [],
      "source": [
        "# from templates import *"
      ]
    },
    {
      "cell_type": "markdown",
      "metadata": {
        "id": "tSgFVxyb3z_O"
      },
      "source": [
        "#Train with lmdb file"
      ]
    },
    {
      "cell_type": "code",
      "execution_count": null,
      "metadata": {
        "colab": {
          "base_uri": "https://localhost:8080/"
        },
        "id": "m649Xt3P4jjO",
        "outputId": "3838a6d8-c3a7-42e4-f6bc-7cdbe6fcc2eb"
      },
      "outputs": [
        {
          "output_type": "stream",
          "name": "stdout",
          "text": [
            "Reading package lists... Done\n",
            "Building dependency tree... Done\n",
            "Reading state information... Done\n",
            "The following additional packages will be installed:\n",
            "  libaria2-0 libc-ares2\n",
            "The following NEW packages will be installed:\n",
            "  aria2 libaria2-0 libc-ares2\n",
            "0 upgraded, 3 newly installed, 0 to remove and 45 not upgraded.\n",
            "Need to get 1,513 kB of archives.\n",
            "After this operation, 5,441 kB of additional disk space will be used.\n",
            "Get:1 http://archive.ubuntu.com/ubuntu jammy-updates/main amd64 libc-ares2 amd64 1.18.1-1ubuntu0.22.04.3 [45.1 kB]\n",
            "Get:2 http://archive.ubuntu.com/ubuntu jammy/universe amd64 libaria2-0 amd64 1.36.0-1 [1,086 kB]\n",
            "Get:3 http://archive.ubuntu.com/ubuntu jammy/universe amd64 aria2 amd64 1.36.0-1 [381 kB]\n",
            "Fetched 1,513 kB in 1s (1,226 kB/s)\n",
            "Selecting previously unselected package libc-ares2:amd64.\n",
            "(Reading database ... 122715 files and directories currently installed.)\n",
            "Preparing to unpack .../libc-ares2_1.18.1-1ubuntu0.22.04.3_amd64.deb ...\n",
            "Unpacking libc-ares2:amd64 (1.18.1-1ubuntu0.22.04.3) ...\n",
            "Selecting previously unselected package libaria2-0:amd64.\n",
            "Preparing to unpack .../libaria2-0_1.36.0-1_amd64.deb ...\n",
            "Unpacking libaria2-0:amd64 (1.36.0-1) ...\n",
            "Selecting previously unselected package aria2.\n",
            "Preparing to unpack .../aria2_1.36.0-1_amd64.deb ...\n",
            "Unpacking aria2 (1.36.0-1) ...\n",
            "Setting up libc-ares2:amd64 (1.18.1-1ubuntu0.22.04.3) ...\n",
            "Setting up libaria2-0:amd64 (1.36.0-1) ...\n",
            "Setting up aria2 (1.36.0-1) ...\n",
            "Processing triggers for man-db (2.10.2-1) ...\n",
            "Processing triggers for libc-bin (2.35-0ubuntu3.4) ...\n",
            "/sbin/ldconfig.real: /usr/local/lib/libtbbbind.so.3 is not a symbolic link\n",
            "\n",
            "/sbin/ldconfig.real: /usr/local/lib/libtbbbind_2_0.so.3 is not a symbolic link\n",
            "\n",
            "/sbin/ldconfig.real: /usr/local/lib/libtbbmalloc_proxy.so.2 is not a symbolic link\n",
            "\n",
            "/sbin/ldconfig.real: /usr/local/lib/libtbbmalloc.so.2 is not a symbolic link\n",
            "\n",
            "/sbin/ldconfig.real: /usr/local/lib/libtbb.so.12 is not a symbolic link\n",
            "\n",
            "/sbin/ldconfig.real: /usr/local/lib/libtbbbind_2_5.so.3 is not a symbolic link\n",
            "\n"
          ]
        }
      ],
      "source": [
        "!apt install aria2"
      ]
    },
    {
      "cell_type": "code",
      "execution_count": null,
      "metadata": {
        "colab": {
          "base_uri": "https://localhost:8080/"
        },
        "id": "9gwB8I143N_m",
        "outputId": "5b82d33d-e0a5-4a58-d8cb-6c17d615eb1a"
      },
      "outputs": [
        {
          "output_type": "stream",
          "name": "stdout",
          "text": [
            "\n",
            "07/09 16:57:43 [\u001b[1;32mNOTICE\u001b[0m] Downloading 1 item(s)\n",
            " *** Download Progress Summary as of Tue Jul  9 16:58:44 2024 *** \n",
            "=\n",
            "[#1ccab2 0.9GiB/3.1GiB(31%) CN:1 DL:15MiB ETA:2m26s]\n",
            "FILE: /content/diffae/data.mdb\n",
            "-\n",
            "\n",
            " *** Download Progress Summary as of Tue Jul  9 16:59:45 2024 *** \n",
            "=\n",
            "[#1ccab2 1.9GiB/3.1GiB(60%) CN:1 DL:19MiB ETA:1m7s]\n",
            "FILE: /content/diffae/data.mdb\n",
            "-\n",
            "\n",
            " *** Download Progress Summary as of Tue Jul  9 17:00:46 2024 *** \n",
            "=\n",
            "[#1ccab2 2.9GiB/3.1GiB(93%) CN:1 DL:18MiB ETA:11s]\n",
            "FILE: /content/diffae/data.mdb\n",
            "-\n",
            "\n",
            "\u001b[0m\n",
            "07/09 17:00:58 [\u001b[1;32mNOTICE\u001b[0m] Download complete: /content/diffae/data.mdb\n",
            "\n",
            "Download Results:\n",
            "gid   |stat|avg speed  |path/URI\n",
            "======+====+===========+=======================================================\n",
            "1ccab2|\u001b[1;32mOK\u001b[0m  |    16MiB/s|/content/diffae/data.mdb\n",
            "\n",
            "Status Legend:\n",
            "(OK):download completed.\n"
          ]
        }
      ],
      "source": [
        "# Download data.mdb\n",
        "!aria2c --header=\"User-Agent: Mozilla/5.0 (Windows NT 10.0; Win64; x64; rv:127.0) Gecko/20100101 Firefox/127.0\" \\\n",
        "  --header=\"Accept: text/html,application/xhtml+xml,application/xml;q=0.9,image/avif,image/webp,*/*;q=0.8\" \\\n",
        "  --header=\"Accept-Language: en-US,en;q=0.5\" \\\n",
        "  --header=\"Accept-Encoding: gzip, deflate, br, zstd\" \\\n",
        "  --header=\"DNT: 1\" \\\n",
        "  --header=\"Connection: keep-alive\" \\\n",
        "  --header=\"Referer: https://onedrive.live.com/\" \\\n",
        "  --header=\"Upgrade-Insecure-Requests: 1\" \\\n",
        "  --header=\"Sec-Fetch-Dest: iframe\" \\\n",
        "  --header=\"Sec-Fetch-Mode: navigate\" \\\n",
        "  --header=\"Sec-Fetch-Site: cross-site\" \\\n",
        "  --header=\"Priority: u=4\" \\\n",
        "  https://axq7ng.dm.files.1drv.com/y4mNgXaL_geY76MjG4oJSwkq0GxNhj1rXgf0yxzkjDAXTnSX-R-WIO-C1_8fg4lKquTxdbs6CQPSSZr55lf2G7WDRAWjVdl5McbXIADNOuJ0lxJn4cb8hWYx_bVHAZ9dTwOBKbRNY20fWBhRL0ZhfLhC-QQ3OzGmdvQq28WLtan4UjNEYBmU3uGi9fUDrFrgeXKz9neKM4Bcng6eVpb3PeftQ"
      ]
    },
    {
      "cell_type": "code",
      "source": [
        "!aria2c --header=\"User-Agent: Mozilla/5.0 (Windows NT 10.0; Win64; x64; rv:127.0) Gecko/20100101 Firefox/127.0\" \\\n",
        "  --header=\"Accept: text/html,application/xhtml+xml,application/xml;q=0.9,image/avif,image/webp,*/*;q=0.8\" \\\n",
        "  --header=\"Accept-Language: en-US,en;q=0.5\" \\\n",
        "  --header=\"Accept-Encoding: gzip, deflate, br, zstd\" \\\n",
        "  --header=\"DNT: 1\" \\\n",
        "  --header=\"Connection: keep-alive\" \\\n",
        "  --header=\"Referer: https://onedrive.live.com/\" \\\n",
        "  --header=\"Upgrade-Insecure-Requests: 1\" \\\n",
        "  --header=\"Sec-Fetch-Dest: iframe\" \\\n",
        "  --header=\"Sec-Fetch-Mode: navigate\" \\\n",
        "  --header=\"Sec-Fetch-Site: cross-site\" \\\n",
        "  --header=\"Priority: u=4\" \\\n",
        "  https://axq7ng.dm.files.1drv.com/y4m28Ko8UG3NqA6jgAAoMlxDQBtil3K6SMGNpfC4cI_HzQ4nSfkHSgI40ReLmXDjhggaWYW38ce-kbAYujYwz6rZydZs2Ca4qhHg17xvCYoX6v7YLyAMIG-zk1uz4UY2MXiZvPE7GeLTXWIFheHybyVO-TpsRxm36j4dHRynlsF-nECEkgYYLfQeC5blnv6Ws0sabH5XtR0n7D9HzEgaCVYtA"
      ],
      "metadata": {
        "colab": {
          "base_uri": "https://localhost:8080/"
        },
        "id": "vN6tH2v5EtKG",
        "outputId": "ab74e3e1-2a16-4dd5-8dd7-0c01f920ad20"
      },
      "execution_count": null,
      "outputs": [
        {
          "output_type": "stream",
          "name": "stdout",
          "text": [
            "\n",
            "07/09 17:00:58 [\u001b[1;32mNOTICE\u001b[0m] Downloading 1 item(s)\n",
            "\n",
            "07/09 17:00:58 [\u001b[1;32mNOTICE\u001b[0m] Download complete: /content/diffae/lock.mdb\n",
            "\n",
            "Download Results:\n",
            "gid   |stat|avg speed  |path/URI\n",
            "======+====+===========+=======================================================\n",
            "671fbf|\u001b[1;32mOK\u001b[0m  |    10KiB/s|/content/diffae/lock.mdb\n",
            "\n",
            "Status Legend:\n",
            "(OK):download completed.\n"
          ]
        }
      ]
    },
    {
      "cell_type": "code",
      "source": [
        "!mkdir datasets/ffhq256.lmdb"
      ],
      "metadata": {
        "id": "PLcE3WhYETHN"
      },
      "execution_count": null,
      "outputs": []
    },
    {
      "cell_type": "code",
      "execution_count": null,
      "metadata": {
        "id": "cOQQ42uI58bX"
      },
      "outputs": [],
      "source": [
        "!mv data.mdb datasets/ffhq256.lmdb"
      ]
    },
    {
      "cell_type": "code",
      "source": [
        "!mv lock.mdb datasets/ffhq256.lmdb"
      ],
      "metadata": {
        "id": "zFqlh3mYEXei"
      },
      "execution_count": null,
      "outputs": []
    },
    {
      "cell_type": "markdown",
      "metadata": {
        "id": "wSrCnmLAw901"
      },
      "source": [
        "# Train ffhq128"
      ]
    },
    {
      "cell_type": "markdown",
      "source": [
        "##run_ffhq128.py\n"
      ],
      "metadata": {
        "id": "rwNSVh3Lzp_5"
      }
    },
    {
      "cell_type": "code",
      "execution_count": null,
      "metadata": {
        "id": "wkWJwQuRyR4G"
      },
      "outputs": [],
      "source": [
        "# #run_ffhq128.py\n",
        "# #from templates import *\n",
        "# #from templates_latent import *\n",
        "\n",
        "# if __name__ == '__main__':\n",
        "#     # train the autoenc moodel\n",
        "#     # this requires V100s.\n",
        "#     gpus = [0, 1, 2, 3]\n",
        "#     conf = ffhq128_autoenc_130M()\n",
        "#     train(conf, gpus=gpus)\n",
        "\n",
        "#     # infer the latents for training the latent DPM\n",
        "#     # NOTE: not gpu heavy, but more gpus can be of use!\n",
        "#     gpus = [0, 1, 2, 3]\n",
        "#     conf.eval_programs = ['infer']\n",
        "#     train(conf, gpus=gpus, mode='eval')\n",
        "\n",
        "#     # train the latent DPM\n",
        "#     # NOTE: only need a single gpu\n",
        "#     gpus = [0]\n",
        "#     conf = ffhq128_autoenc_latent()\n",
        "#     train(conf, gpus=gpus)\n",
        "\n",
        "#     # unconditional sampling score\n",
        "#     # NOTE: a lot of gpus can speed up this process\n",
        "#     gpus = [0, 1, 2, 3]\n",
        "#     conf.eval_programs = ['fid(10,10)']\n",
        "#     train(conf, gpus=gpus, mode='eval')"
      ]
    },
    {
      "cell_type": "code",
      "source": [
        "!nvidia-smi"
      ],
      "metadata": {
        "colab": {
          "base_uri": "https://localhost:8080/"
        },
        "id": "eBHDrIaVFUi2",
        "outputId": "39443437-593a-480c-c8f9-fddbe4c0ee85"
      },
      "execution_count": null,
      "outputs": [
        {
          "output_type": "stream",
          "name": "stdout",
          "text": [
            "Tue Jul  9 15:20:52 2024       \n",
            "+---------------------------------------------------------------------------------------+\n",
            "| NVIDIA-SMI 535.104.05             Driver Version: 535.104.05   CUDA Version: 12.2     |\n",
            "|-----------------------------------------+----------------------+----------------------+\n",
            "| GPU  Name                 Persistence-M | Bus-Id        Disp.A | Volatile Uncorr. ECC |\n",
            "| Fan  Temp   Perf          Pwr:Usage/Cap |         Memory-Usage | GPU-Util  Compute M. |\n",
            "|                                         |                      |               MIG M. |\n",
            "|=========================================+======================+======================|\n",
            "|   0  NVIDIA L4                      Off | 00000000:00:03.0 Off |                    0 |\n",
            "| N/A   41C    P8              17W /  72W |      1MiB / 23034MiB |      0%      Default |\n",
            "|                                         |                      |                  N/A |\n",
            "+-----------------------------------------+----------------------+----------------------+\n",
            "                                                                                         \n",
            "+---------------------------------------------------------------------------------------+\n",
            "| Processes:                                                                            |\n",
            "|  GPU   GI   CI        PID   Type   Process name                            GPU Memory |\n",
            "|        ID   ID                                                             Usage      |\n",
            "|=======================================================================================|\n",
            "|  No running processes found                                                           |\n",
            "+---------------------------------------------------------------------------------------+\n"
          ]
        }
      ]
    },
    {
      "cell_type": "code",
      "source": [
        "!source diffae/bin/activate ; pip install torch==1.8.1+cu111 torchvision==0.9.1+cu111 torchaudio==0.8.1 -f https://download.pytorch.org/whl/torch_stable.html"
      ],
      "metadata": {
        "colab": {
          "base_uri": "https://localhost:8080/"
        },
        "id": "FbRGEPvTHVX_",
        "outputId": "c16efc16-09ff-414a-d32a-37a1edd13f9e"
      },
      "execution_count": null,
      "outputs": [
        {
          "output_type": "stream",
          "name": "stdout",
          "text": [
            "Looking in links: https://download.pytorch.org/whl/torch_stable.html\n",
            "Collecting torch==1.8.1+cu111\n",
            "  Downloading https://download.pytorch.org/whl/cu111/torch-1.8.1%2Bcu111-cp38-cp38-linux_x86_64.whl (1982.2 MB)\n",
            "\u001b[2K     \u001b[90m━━━━━━━━━━━━━━━━━━━━━━━━━━━━━━━━━━━━━━━━\u001b[0m \u001b[32m2.0/2.0 GB\u001b[0m \u001b[31m1.1 MB/s\u001b[0m eta \u001b[36m0:00:00\u001b[0m\n",
            "\u001b[?25hCollecting torchvision==0.9.1+cu111\n",
            "  Downloading https://download.pytorch.org/whl/cu111/torchvision-0.9.1%2Bcu111-cp38-cp38-linux_x86_64.whl (17.6 MB)\n",
            "\u001b[2K     \u001b[90m━━━━━━━━━━━━━━━━━━━━━━━━━━━━━━━━━━━━━━━━\u001b[0m \u001b[32m17.6/17.6 MB\u001b[0m \u001b[31m95.6 MB/s\u001b[0m eta \u001b[36m0:00:00\u001b[0m\n",
            "\u001b[?25hCollecting torchaudio==0.8.1\n",
            "  Downloading torchaudio-0.8.1-cp38-cp38-manylinux1_x86_64.whl.metadata (1.1 kB)\n",
            "Requirement already satisfied: typing-extensions in ./diffae/lib/python3.8/site-packages (from torch==1.8.1+cu111) (4.12.2)\n",
            "Requirement already satisfied: numpy in ./diffae/lib/python3.8/site-packages (from torch==1.8.1+cu111) (1.19.5)\n",
            "Requirement already satisfied: pillow>=4.1.1 in ./diffae/lib/python3.8/site-packages (from torchvision==0.9.1+cu111) (10.4.0)\n",
            "Downloading torchaudio-0.8.1-cp38-cp38-manylinux1_x86_64.whl (1.9 MB)\n",
            "\u001b[2K   \u001b[90m━━━━━━━━━━━━━━━━━━━━━━━━━━━━━━━━━━━━━━━━\u001b[0m \u001b[32m1.9/1.9 MB\u001b[0m \u001b[31m7.6 MB/s\u001b[0m eta \u001b[36m0:00:00\u001b[0m\n",
            "\u001b[?25hInstalling collected packages: torch, torchvision, torchaudio\n",
            "  Attempting uninstall: torch\n",
            "    Found existing installation: torch 1.8.1\n",
            "    Uninstalling torch-1.8.1:\n",
            "      Successfully uninstalled torch-1.8.1\n",
            "  Attempting uninstall: torchvision\n",
            "    Found existing installation: torchvision 0.9.1\n",
            "    Uninstalling torchvision-0.9.1:\n",
            "      Successfully uninstalled torchvision-0.9.1\n",
            "Successfully installed torch-1.8.1+cu111 torchaudio-0.8.1 torchvision-0.9.1+cu111\n"
          ]
        }
      ]
    },
    {
      "cell_type": "code",
      "execution_count": null,
      "metadata": {
        "colab": {
          "base_uri": "https://localhost:8080/"
        },
        "id": "rtTb-BZCwbGT",
        "outputId": "75819caf-68f3-4e16-abc3-a03d87fba814"
      },
      "outputs": [
        {
          "output_type": "stream",
          "name": "stdout",
          "text": [
            "conf: ffhq128_autoenc_130M\n",
            "Global seed set to 0\n",
            "Model params: 122.59 M\n",
            "/content/diffae/diffae/lib/python3.8/site-packages/pytorch_lightning/callbacks/model_checkpoint.py:432: UserWarning: ModelCheckpoint(save_last=True, save_top_k=None, monitor=None) is a redundant configuration. You can save the last checkpoint with ModelCheckpoint(save_top_k=None, monitor=None).\n",
            "  rank_zero_warn(\n",
            "ckpt path: checkpoints/ffhq128_autoenc_130M/last.ckpt\n",
            "Using native 16bit precision.\n",
            "GPU available: True, used: True\n",
            "TPU available: False, using: 0 TPU cores\n",
            "IPU available: False, using: 0 IPUs\n",
            "local seed: 0\n",
            "train data: 70001\n",
            "val data: 70001\n",
            "LOCAL_RANK: 0 - CUDA_VISIBLE_DEVICES: [0]\n",
            "\n",
            "  | Name      | Type                 | Params\n",
            "---------------------------------------------------\n",
            "0 | model     | BeatGANsAutoencModel | 128 M \n",
            "1 | ema_model | BeatGANsAutoencModel | 128 M \n",
            "---------------------------------------------------\n",
            "128 M     Trainable params\n",
            "128 M     Non-trainable params\n",
            "257 M     Total params\n",
            "1,028.361 Total estimated model params size (MB)\n",
            "on train dataloader start ...\n",
            "/content/diffae/diffae/lib/python3.8/site-packages/pytorch_lightning/callbacks/lr_monitor.py:112: RuntimeWarning: You are using `LearningRateMonitor` callback with models that have no learning rate schedulers. Please see documentation for `configure_optimizers` method.\n",
            "  rank_zero_warn(\n",
            "Epoch 0:   0% 0/546 [00:00<00:00, 10010.27it/s] Traceback (most recent call last):\n",
            "  File \"run_ffhq128.py\", line 9, in <module>\n",
            "    train(conf, gpus=gpus)\n",
            "  File \"/content/diffae/experiment.py\", line 938, in train\n",
            "    trainer.fit(model)\n",
            "  File \"/content/diffae/diffae/lib/python3.8/site-packages/pytorch_lightning/trainer/trainer.py\", line 552, in fit\n",
            "    self._run(model)\n",
            "  File \"/content/diffae/diffae/lib/python3.8/site-packages/pytorch_lightning/trainer/trainer.py\", line 917, in _run\n",
            "    self._dispatch()\n",
            "  File \"/content/diffae/diffae/lib/python3.8/site-packages/pytorch_lightning/trainer/trainer.py\", line 985, in _dispatch\n",
            "    self.accelerator.start_training(self)\n",
            "  File \"/content/diffae/diffae/lib/python3.8/site-packages/pytorch_lightning/accelerators/accelerator.py\", line 92, in start_training\n",
            "    self.training_type_plugin.start_training(trainer)\n",
            "  File \"/content/diffae/diffae/lib/python3.8/site-packages/pytorch_lightning/plugins/training_type/training_type_plugin.py\", line 161, in start_training\n",
            "    self._results = trainer.run_stage()\n",
            "  File \"/content/diffae/diffae/lib/python3.8/site-packages/pytorch_lightning/trainer/trainer.py\", line 995, in run_stage\n",
            "    return self._run_train()\n",
            "  File \"/content/diffae/diffae/lib/python3.8/site-packages/pytorch_lightning/trainer/trainer.py\", line 1044, in _run_train\n",
            "    self.fit_loop.run()\n",
            "  File \"/content/diffae/diffae/lib/python3.8/site-packages/pytorch_lightning/loops/base.py\", line 111, in run\n",
            "    self.advance(*args, **kwargs)\n",
            "  File \"/content/diffae/diffae/lib/python3.8/site-packages/pytorch_lightning/loops/fit_loop.py\", line 200, in advance\n",
            "    epoch_output = self.epoch_loop.run(train_dataloader)\n",
            "  File \"/content/diffae/diffae/lib/python3.8/site-packages/pytorch_lightning/loops/base.py\", line 111, in run\n",
            "    self.advance(*args, **kwargs)\n",
            "  File \"/content/diffae/diffae/lib/python3.8/site-packages/pytorch_lightning/loops/epoch/training_epoch_loop.py\", line 130, in advance\n",
            "    batch_output = self.batch_loop.run(batch, self.iteration_count, self._dataloader_idx)\n",
            "  File \"/content/diffae/diffae/lib/python3.8/site-packages/pytorch_lightning/loops/batch/training_batch_loop.py\", line 100, in run\n",
            "    super().run(batch, batch_idx, dataloader_idx)\n",
            "  File \"/content/diffae/diffae/lib/python3.8/site-packages/pytorch_lightning/loops/base.py\", line 111, in run\n",
            "    self.advance(*args, **kwargs)\n",
            "  File \"/content/diffae/diffae/lib/python3.8/site-packages/pytorch_lightning/loops/batch/training_batch_loop.py\", line 147, in advance\n",
            "    result = self._run_optimization(batch_idx, split_batch, opt_idx, optimizer)\n",
            "  File \"/content/diffae/diffae/lib/python3.8/site-packages/pytorch_lightning/loops/batch/training_batch_loop.py\", line 201, in _run_optimization\n",
            "    self._optimizer_step(optimizer, opt_idx, batch_idx, closure)\n",
            "  File \"/content/diffae/diffae/lib/python3.8/site-packages/pytorch_lightning/loops/batch/training_batch_loop.py\", line 395, in _optimizer_step\n",
            "    model_ref.optimizer_step(\n",
            "  File \"/content/diffae/diffae/lib/python3.8/site-packages/pytorch_lightning/core/lightning.py\", line 1618, in optimizer_step\n",
            "    optimizer.step(closure=optimizer_closure)\n",
            "  File \"/content/diffae/diffae/lib/python3.8/site-packages/pytorch_lightning/core/optimizer.py\", line 209, in step\n",
            "    self.__optimizer_step(*args, closure=closure, profiler_name=profiler_name, **kwargs)\n",
            "  File \"/content/diffae/diffae/lib/python3.8/site-packages/pytorch_lightning/core/optimizer.py\", line 129, in __optimizer_step\n",
            "    trainer.accelerator.optimizer_step(optimizer, self._optimizer_idx, lambda_closure=closure, **kwargs)\n",
            "  File \"/content/diffae/diffae/lib/python3.8/site-packages/pytorch_lightning/accelerators/accelerator.py\", line 292, in optimizer_step\n",
            "    make_optimizer_step = self.precision_plugin.pre_optimizer_step(\n",
            "  File \"/content/diffae/diffae/lib/python3.8/site-packages/pytorch_lightning/plugins/precision/native_amp.py\", line 59, in pre_optimizer_step\n",
            "    result = lambda_closure()\n",
            "  File \"/content/diffae/diffae/lib/python3.8/site-packages/pytorch_lightning/loops/batch/training_batch_loop.py\", line 235, in _training_step_and_backward_closure\n",
            "    result = self.training_step_and_backward(split_batch, batch_idx, opt_idx, optimizer, hiddens)\n",
            "  File \"/content/diffae/diffae/lib/python3.8/site-packages/pytorch_lightning/loops/batch/training_batch_loop.py\", line 536, in training_step_and_backward\n",
            "    result = self._training_step(split_batch, batch_idx, opt_idx, hiddens)\n",
            "  File \"/content/diffae/diffae/lib/python3.8/site-packages/pytorch_lightning/loops/batch/training_batch_loop.py\", line 306, in _training_step\n",
            "    training_step_output = self.trainer.accelerator.training_step(step_kwargs)\n",
            "  File \"/content/diffae/diffae/lib/python3.8/site-packages/pytorch_lightning/accelerators/accelerator.py\", line 193, in training_step\n",
            "    return self.training_type_plugin.training_step(*step_kwargs.values())\n",
            "  File \"/content/diffae/diffae/lib/python3.8/site-packages/pytorch_lightning/plugins/training_type/training_type_plugin.py\", line 172, in training_step\n",
            "    return self.model.training_step(*args, **kwargs)\n",
            "  File \"/content/diffae/experiment.py\", line 375, in training_step\n",
            "    losses = self.sampler.training_losses(model=self.model,\n",
            "  File \"/content/diffae/diffusion/diffusion.py\", line 100, in training_losses\n",
            "    return super().training_losses(self._wrap_model(model), *args,\n",
            "  File \"/content/diffae/diffusion/base.py\", line 133, in training_losses\n",
            "    model_forward = model.forward(x=x_t.detach(),\n",
            "  File \"/content/diffae/diffusion/diffusion.py\", line 153, in forward\n",
            "    return self.model(x=x, t=do(t), t_cond=t_cond, **kwargs)\n",
            "  File \"/content/diffae/diffae/lib/python3.8/site-packages/torch/nn/modules/module.py\", line 889, in _call_impl\n",
            "    result = self.forward(*input, **kwargs)\n",
            "  File \"/content/diffae/model/unet_autoenc.py\", line 241, in forward\n",
            "    h = self.output_blocks[k](h,\n",
            "  File \"/content/diffae/diffae/lib/python3.8/site-packages/torch/nn/modules/module.py\", line 889, in _call_impl\n",
            "    result = self.forward(*input, **kwargs)\n",
            "  File \"/content/diffae/model/blocks.py\", line 39, in forward\n",
            "    x = layer(x, emb=emb, cond=cond, lateral=lateral)\n",
            "  File \"/content/diffae/diffae/lib/python3.8/site-packages/torch/nn/modules/module.py\", line 889, in _call_impl\n",
            "    result = self.forward(*input, **kwargs)\n",
            "  File \"/content/diffae/model/blocks.py\", line 193, in forward\n",
            "    return torch_checkpoint(self._forward, (x, emb, cond, lateral),\n",
            "  File \"/content/diffae/model/nn.py\", line 137, in torch_checkpoint\n",
            "    return func(*args)\n",
            "  File \"/content/diffae/model/blocks.py\", line 220, in _forward\n",
            "    h = self.in_layers(x)\n",
            "  File \"/content/diffae/diffae/lib/python3.8/site-packages/torch/nn/modules/module.py\", line 889, in _call_impl\n",
            "    result = self.forward(*input, **kwargs)\n",
            "  File \"/content/diffae/diffae/lib/python3.8/site-packages/torch/nn/modules/container.py\", line 119, in forward\n",
            "    input = module(input)\n",
            "  File \"/content/diffae/diffae/lib/python3.8/site-packages/torch/nn/modules/module.py\", line 889, in _call_impl\n",
            "    result = self.forward(*input, **kwargs)\n",
            "  File \"/content/diffae/model/nn.py\", line 25, in forward\n",
            "    return super().forward(x.float()).type(x.dtype)\n",
            "  File \"/content/diffae/diffae/lib/python3.8/site-packages/torch/nn/modules/normalization.py\", line 246, in forward\n",
            "    return F.group_norm(\n",
            "  File \"/content/diffae/diffae/lib/python3.8/site-packages/torch/nn/functional.py\", line 2218, in group_norm\n",
            "    return torch.group_norm(input, num_groups, weight, bias, eps, torch.backends.cudnn.enabled)\n",
            "RuntimeError: CUDA out of memory. Tried to allocate 320.00 MiB (GPU 0; 39.56 GiB total capacity; 37.35 GiB already allocated; 194.81 MiB free; 37.66 GiB reserved in total by PyTorch)\n",
            "Epoch 0:   0%|          | 0/546 [00:01<15:34,  1.71s/it]\n"
          ]
        }
      ],
      "source": [
        "!source diffae/bin/activate ;python run_ffhq128.py"
      ]
    },
    {
      "cell_type": "code",
      "source": [
        "!source diffae/bin/activate ;python run_ffhq128_ddim.py"
      ],
      "metadata": {
        "colab": {
          "base_uri": "https://localhost:8080/"
        },
        "id": "TVpFmtVp75mc",
        "outputId": "3771c887-be47-4b23-a381-e05a032eb940"
      },
      "execution_count": null,
      "outputs": [
        {
          "output_type": "stream",
          "name": "stdout",
          "text": [
            "conf: ffhq128_ddpm_130M\n",
            "Global seed set to 0\n",
            "Model params: 94.05 M\n",
            "Traceback (most recent call last):\n",
            "  File \"run_ffhq128_ddim.py\", line 7, in <module>\n",
            "    train(conf, gpus=gpus)\n",
            "  File \"/content/diffae/experiment.py\", line 885, in train\n",
            "    checkpoint = ModelCheckpoint(dirpath=f'{conf.logdir}',\n",
            "TypeError: __init__() got an unexpected keyword argument 'every_n_train_steps'\n"
          ]
        }
      ]
    },
    {
      "cell_type": "code",
      "execution_count": null,
      "metadata": {
        "id": "uXirXkQm60cl",
        "colab": {
          "base_uri": "https://localhost:8080/"
        },
        "outputId": "6cf77ddc-39a7-454a-8685-f00926f685b5"
      },
      "outputs": [
        {
          "output_type": "stream",
          "name": "stdout",
          "text": [
            "conf: ffhq256_autoenc\n",
            "Global seed set to 0\n",
            "Model params: 160.69 M\n",
            "Traceback (most recent call last):\n",
            "  File \"run_ffhq256.py\", line 10, in <module>\n",
            "    train(conf, gpus=gpus, nodes=nodes)\n",
            "  File \"/content/diffae/experiment.py\", line 885, in train\n",
            "    checkpoint = ModelCheckpoint(dirpath=f'{conf.logdir}',\n",
            "TypeError: __init__() got an unexpected keyword argument 'every_n_train_steps'\n"
          ]
        }
      ],
      "source": [
        "!source diffae/bin/activate ;python run_ffhq256.py"
      ]
    }
  ],
  "metadata": {
    "accelerator": "GPU",
    "colab": {
      "gpuType": "A100",
      "machine_shape": "hm",
      "provenance": []
    },
    "kernelspec": {
      "display_name": "Python 3",
      "name": "python3"
    },
    "language_info": {
      "name": "python"
    }
  },
  "nbformat": 4,
  "nbformat_minor": 0
}